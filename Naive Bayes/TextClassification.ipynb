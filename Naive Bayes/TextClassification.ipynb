{
 "cells": [
  {
   "cell_type": "code",
   "execution_count": 35,
   "id": "9d8960e7",
   "metadata": {},
   "outputs": [],
   "source": [
    "with open ('One.txt') as mytext:\n",
    "    a = mytext.read().lower().split()\n",
    "    uni_words = set(a)"
   ]
  },
  {
   "cell_type": "code",
   "execution_count": 36,
   "id": "54d98fe5",
   "metadata": {},
   "outputs": [
    {
     "name": "stdout",
     "output_type": "stream",
     "text": [
      "['this', 'is', 'a', 'story', 'about', 'dogs', 'our', 'canine', 'pets', 'dogs', 'are', 'furry', 'animals']\n"
     ]
    }
   ],
   "source": [
    "print(a)"
   ]
  },
  {
   "cell_type": "code",
   "execution_count": 37,
   "id": "610a849a",
   "metadata": {},
   "outputs": [
    {
     "data": {
      "text/plain": [
       "{'a',\n",
       " 'about',\n",
       " 'animals',\n",
       " 'are',\n",
       " 'canine',\n",
       " 'dogs',\n",
       " 'furry',\n",
       " 'is',\n",
       " 'our',\n",
       " 'pets',\n",
       " 'story',\n",
       " 'this'}"
      ]
     },
     "execution_count": 37,
     "metadata": {},
     "output_type": "execute_result"
    }
   ],
   "source": [
    "uni_words"
   ]
  },
  {
   "cell_type": "code",
   "execution_count": 38,
   "id": "61292a01",
   "metadata": {},
   "outputs": [],
   "source": [
    "with open ('Two.txt') as mytext:\n",
    "    b = mytext.read().lower().split()\n",
    "    uni_words2 = set(b)"
   ]
  },
  {
   "cell_type": "code",
   "execution_count": 39,
   "id": "fc34e4e1",
   "metadata": {},
   "outputs": [
    {
     "name": "stdout",
     "output_type": "stream",
     "text": [
      "['this', 'story', 'is', 'about', 'surfing', 'catching', 'waves', 'is', 'fun', 'surfing', 'is', 'a', 'popular', 'water', 'sport']\n"
     ]
    }
   ],
   "source": [
    "print(b)"
   ]
  },
  {
   "cell_type": "code",
   "execution_count": 40,
   "id": "4e13bee1",
   "metadata": {},
   "outputs": [
    {
     "data": {
      "text/plain": [
       "{'a',\n",
       " 'about',\n",
       " 'catching',\n",
       " 'fun',\n",
       " 'is',\n",
       " 'popular',\n",
       " 'sport',\n",
       " 'story',\n",
       " 'surfing',\n",
       " 'this',\n",
       " 'water',\n",
       " 'waves'}"
      ]
     },
     "execution_count": 40,
     "metadata": {},
     "output_type": "execute_result"
    }
   ],
   "source": [
    "uni_words2"
   ]
  },
  {
   "cell_type": "code",
   "execution_count": 41,
   "id": "ac48fe25",
   "metadata": {},
   "outputs": [],
   "source": [
    "all_uni = set()"
   ]
  },
  {
   "cell_type": "code",
   "execution_count": 42,
   "id": "417c94d8",
   "metadata": {},
   "outputs": [],
   "source": [
    "all_uni.update(uni_words)"
   ]
  },
  {
   "cell_type": "code",
   "execution_count": 43,
   "id": "0348d1a3",
   "metadata": {},
   "outputs": [],
   "source": [
    "all_uni.update(uni_words2)"
   ]
  },
  {
   "cell_type": "code",
   "execution_count": 44,
   "id": "4f4e645e",
   "metadata": {},
   "outputs": [
    {
     "data": {
      "text/plain": [
       "{'a',\n",
       " 'about',\n",
       " 'animals',\n",
       " 'are',\n",
       " 'canine',\n",
       " 'catching',\n",
       " 'dogs',\n",
       " 'fun',\n",
       " 'furry',\n",
       " 'is',\n",
       " 'our',\n",
       " 'pets',\n",
       " 'popular',\n",
       " 'sport',\n",
       " 'story',\n",
       " 'surfing',\n",
       " 'this',\n",
       " 'water',\n",
       " 'waves'}"
      ]
     },
     "execution_count": 44,
     "metadata": {},
     "output_type": "execute_result"
    }
   ],
   "source": [
    "all_uni"
   ]
  },
  {
   "cell_type": "code",
   "execution_count": 49,
   "id": "f0275b10",
   "metadata": {},
   "outputs": [],
   "source": [
    "full_voca = dict()\n",
    "i = 0\n",
    "for word in all_uni:\n",
    "    full_voca[word] = i\n",
    "    i = i +1"
   ]
  },
  {
   "cell_type": "code",
   "execution_count": 50,
   "id": "396f69eb",
   "metadata": {},
   "outputs": [
    {
     "data": {
      "text/plain": [
       "{'waves': 0,\n",
       " 'catching': 1,\n",
       " 'about': 2,\n",
       " 'canine': 3,\n",
       " 'animals': 4,\n",
       " 'water': 5,\n",
       " 'is': 6,\n",
       " 'fun': 7,\n",
       " 'story': 8,\n",
       " 'pets': 9,\n",
       " 'surfing': 10,\n",
       " 'sport': 11,\n",
       " 'popular': 12,\n",
       " 'furry': 13,\n",
       " 'are': 14,\n",
       " 'this': 15,\n",
       " 'dogs': 16,\n",
       " 'our': 17,\n",
       " 'a': 18}"
      ]
     },
     "execution_count": 50,
     "metadata": {},
     "output_type": "execute_result"
    }
   ],
   "source": [
    "full_voca"
   ]
  },
  {
   "cell_type": "code",
   "execution_count": 71,
   "id": "181f8fc8",
   "metadata": {},
   "outputs": [],
   "source": [
    "one_freq = [0]*len(full_voca)\n",
    "two_freq = [0]*len(full_voca)\n",
    "all_word = ['']*len(full_voca)"
   ]
  },
  {
   "cell_type": "code",
   "execution_count": 53,
   "id": "12c62618",
   "metadata": {},
   "outputs": [
    {
     "data": {
      "text/plain": [
       "[0, 0, 0, 0, 0, 0, 0, 0, 0, 0, 0, 0, 0, 0, 0, 0, 0, 0, 0]"
      ]
     },
     "execution_count": 53,
     "metadata": {},
     "output_type": "execute_result"
    }
   ],
   "source": [
    "two_freq"
   ]
  },
  {
   "cell_type": "code",
   "execution_count": 54,
   "id": "23968e65",
   "metadata": {},
   "outputs": [
    {
     "data": {
      "text/plain": [
       "[0, 0, 0, 0, 0, 0, 0, 0, 0, 0, 0, 0, 0, 0, 0, 0, 0, 0, 0]"
      ]
     },
     "execution_count": 54,
     "metadata": {},
     "output_type": "execute_result"
    }
   ],
   "source": [
    "one_freq\n"
   ]
  },
  {
   "cell_type": "code",
   "execution_count": 55,
   "id": "4feeecf0",
   "metadata": {},
   "outputs": [
    {
     "data": {
      "text/plain": [
       "['', '', '', '', '', '', '', '', '', '', '', '', '', '', '', '', '', '', '']"
      ]
     },
     "execution_count": 55,
     "metadata": {},
     "output_type": "execute_result"
    }
   ],
   "source": [
    "all_word"
   ]
  },
  {
   "cell_type": "code",
   "execution_count": 65,
   "id": "2559c572",
   "metadata": {},
   "outputs": [
    {
     "data": {
      "text/plain": [
       "{'waves': 0,\n",
       " 'catching': 1,\n",
       " 'about': 2,\n",
       " 'canine': 3,\n",
       " 'animals': 4,\n",
       " 'water': 5,\n",
       " 'is': 6,\n",
       " 'fun': 7,\n",
       " 'story': 8,\n",
       " 'pets': 9,\n",
       " 'surfing': 10,\n",
       " 'sport': 11,\n",
       " 'popular': 12,\n",
       " 'furry': 13,\n",
       " 'are': 14,\n",
       " 'this': 15,\n",
       " 'dogs': 16,\n",
       " 'our': 17,\n",
       " 'a': 18}"
      ]
     },
     "execution_count": 65,
     "metadata": {},
     "output_type": "execute_result"
    }
   ],
   "source": [
    "with open ('One.txt') as f:\n",
    "    one_text = f.read().lower().split()"
   ]
  },
  {
   "cell_type": "code",
   "execution_count": 72,
   "id": "e28fbf05",
   "metadata": {},
   "outputs": [
    {
     "data": {
      "text/plain": [
       "[0, 0, 1, 1, 1, 0, 1, 0, 1, 1, 0, 0, 0, 1, 1, 1, 2, 1, 1]"
      ]
     },
     "execution_count": 72,
     "metadata": {},
     "output_type": "execute_result"
    }
   ],
   "source": [
    "for word in one_text:\n",
    "    word_ind = full_voca[word]\n",
    "    one_freq[word_ind] += 1\n",
    "one_freq"
   ]
  },
  {
   "cell_type": "code",
   "execution_count": 73,
   "id": "74b08864",
   "metadata": {},
   "outputs": [],
   "source": [
    "with open ('Two.txt') as f:\n",
    "    two_text = f.read().lower().split()"
   ]
  },
  {
   "cell_type": "code",
   "execution_count": 74,
   "id": "f27d9ad8",
   "metadata": {},
   "outputs": [
    {
     "data": {
      "text/plain": [
       "[1, 1, 1, 0, 0, 1, 3, 1, 1, 0, 2, 1, 1, 0, 0, 1, 0, 0, 1]"
      ]
     },
     "execution_count": 74,
     "metadata": {},
     "output_type": "execute_result"
    }
   ],
   "source": [
    "for word in two_text:\n",
    "    word_ind = full_voca[word]\n",
    "    two_freq[word_ind] += 1\n",
    "two_freq"
   ]
  },
  {
   "cell_type": "code",
   "execution_count": 75,
   "id": "02b35ae6",
   "metadata": {},
   "outputs": [],
   "source": [
    "for word in full_voca:\n",
    "    word_ind = full_voca[word]\n",
    "    all_word[word_ind] = word"
   ]
  },
  {
   "cell_type": "code",
   "execution_count": 76,
   "id": "01debb36",
   "metadata": {},
   "outputs": [
    {
     "data": {
      "text/plain": [
       "['waves',\n",
       " 'catching',\n",
       " 'about',\n",
       " 'canine',\n",
       " 'animals',\n",
       " 'water',\n",
       " 'is',\n",
       " 'fun',\n",
       " 'story',\n",
       " 'pets',\n",
       " 'surfing',\n",
       " 'sport',\n",
       " 'popular',\n",
       " 'furry',\n",
       " 'are',\n",
       " 'this',\n",
       " 'dogs',\n",
       " 'our',\n",
       " 'a']"
      ]
     },
     "execution_count": 76,
     "metadata": {},
     "output_type": "execute_result"
    }
   ],
   "source": [
    "all_word"
   ]
  },
  {
   "cell_type": "code",
   "execution_count": 77,
   "id": "2e4cd2dc",
   "metadata": {},
   "outputs": [],
   "source": [
    "import pandas as pd\n",
    "import numpy as np\n",
    "import seaborn as sns\n",
    "import matplotlib.pyplot as plt"
   ]
  },
  {
   "cell_type": "code",
   "execution_count": 80,
   "id": "068e610b",
   "metadata": {},
   "outputs": [],
   "source": [
    "bow = pd.DataFrame(data= [one_freq,two_freq] , columns= all_word)"
   ]
  },
  {
   "cell_type": "code",
   "execution_count": 81,
   "id": "3c8a34e1",
   "metadata": {},
   "outputs": [
    {
     "data": {
      "text/html": [
       "<div>\n",
       "<style scoped>\n",
       "    .dataframe tbody tr th:only-of-type {\n",
       "        vertical-align: middle;\n",
       "    }\n",
       "\n",
       "    .dataframe tbody tr th {\n",
       "        vertical-align: top;\n",
       "    }\n",
       "\n",
       "    .dataframe thead th {\n",
       "        text-align: right;\n",
       "    }\n",
       "</style>\n",
       "<table border=\"1\" class=\"dataframe\">\n",
       "  <thead>\n",
       "    <tr style=\"text-align: right;\">\n",
       "      <th></th>\n",
       "      <th>waves</th>\n",
       "      <th>catching</th>\n",
       "      <th>about</th>\n",
       "      <th>canine</th>\n",
       "      <th>animals</th>\n",
       "      <th>water</th>\n",
       "      <th>is</th>\n",
       "      <th>fun</th>\n",
       "      <th>story</th>\n",
       "      <th>pets</th>\n",
       "      <th>surfing</th>\n",
       "      <th>sport</th>\n",
       "      <th>popular</th>\n",
       "      <th>furry</th>\n",
       "      <th>are</th>\n",
       "      <th>this</th>\n",
       "      <th>dogs</th>\n",
       "      <th>our</th>\n",
       "      <th>a</th>\n",
       "    </tr>\n",
       "  </thead>\n",
       "  <tbody>\n",
       "    <tr>\n",
       "      <th>0</th>\n",
       "      <td>0</td>\n",
       "      <td>0</td>\n",
       "      <td>1</td>\n",
       "      <td>1</td>\n",
       "      <td>1</td>\n",
       "      <td>0</td>\n",
       "      <td>1</td>\n",
       "      <td>0</td>\n",
       "      <td>1</td>\n",
       "      <td>1</td>\n",
       "      <td>0</td>\n",
       "      <td>0</td>\n",
       "      <td>0</td>\n",
       "      <td>1</td>\n",
       "      <td>1</td>\n",
       "      <td>1</td>\n",
       "      <td>2</td>\n",
       "      <td>1</td>\n",
       "      <td>1</td>\n",
       "    </tr>\n",
       "    <tr>\n",
       "      <th>1</th>\n",
       "      <td>1</td>\n",
       "      <td>1</td>\n",
       "      <td>1</td>\n",
       "      <td>0</td>\n",
       "      <td>0</td>\n",
       "      <td>1</td>\n",
       "      <td>3</td>\n",
       "      <td>1</td>\n",
       "      <td>1</td>\n",
       "      <td>0</td>\n",
       "      <td>2</td>\n",
       "      <td>1</td>\n",
       "      <td>1</td>\n",
       "      <td>0</td>\n",
       "      <td>0</td>\n",
       "      <td>1</td>\n",
       "      <td>0</td>\n",
       "      <td>0</td>\n",
       "      <td>1</td>\n",
       "    </tr>\n",
       "  </tbody>\n",
       "</table>\n",
       "</div>"
      ],
      "text/plain": [
       "   waves  catching  about  canine  animals  water  is  fun  story  pets  \\\n",
       "0      0         0      1       1        1      0   1    0      1     1   \n",
       "1      1         1      1       0        0      1   3    1      1     0   \n",
       "\n",
       "   surfing  sport  popular  furry  are  this  dogs  our  a  \n",
       "0        0      0        0      1    1     1     2    1  1  \n",
       "1        2      1        1      0    0     1     0    0  1  "
      ]
     },
     "execution_count": 81,
     "metadata": {},
     "output_type": "execute_result"
    }
   ],
   "source": [
    "bow"
   ]
  },
  {
   "cell_type": "code",
   "execution_count": null,
   "id": "610a40e8",
   "metadata": {},
   "outputs": [],
   "source": []
  }
 ],
 "metadata": {
  "kernelspec": {
   "display_name": "Python 3 (ipykernel)",
   "language": "python",
   "name": "python3"
  },
  "language_info": {
   "codemirror_mode": {
    "name": "ipython",
    "version": 3
   },
   "file_extension": ".py",
   "mimetype": "text/x-python",
   "name": "python",
   "nbconvert_exporter": "python",
   "pygments_lexer": "ipython3",
   "version": "3.9.13"
  }
 },
 "nbformat": 4,
 "nbformat_minor": 5
}
