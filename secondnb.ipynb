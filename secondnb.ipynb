{
 "cells": [
  {
   "cell_type": "code",
   "execution_count": 13,
   "id": "e8f2e2fc",
   "metadata": {},
   "outputs": [],
   "source": [
    "def my_fun(name = 'NO NAME'):\n",
    "    print ('hello '+name)"
   ]
  },
  {
   "cell_type": "code",
   "execution_count": 14,
   "id": "1bb79d65",
   "metadata": {},
   "outputs": [
    {
     "name": "stdout",
     "output_type": "stream",
     "text": [
      "hello kanishk\n",
      "hello NO NAME\n"
     ]
    }
   ],
   "source": [
    "my_fun('kanishk')\n",
    "my_fun()"
   ]
  },
  {
   "cell_type": "code",
   "execution_count": 20,
   "id": "b9f814a5",
   "metadata": {},
   "outputs": [],
   "source": [
    "def square(x):\n",
    "    print(x**2)\n",
    "    return x**2"
   ]
  },
  {
   "cell_type": "code",
   "execution_count": 21,
   "id": "ff6633f4",
   "metadata": {},
   "outputs": [
    {
     "name": "stdout",
     "output_type": "stream",
     "text": [
      "544428889\n",
      "544428889\n"
     ]
    }
   ],
   "source": [
    "result  = square(23333)\n",
    "print(result)"
   ]
  },
  {
   "cell_type": "code",
   "execution_count": 23,
   "id": "3e1a9840",
   "metadata": {},
   "outputs": [],
   "source": [
    "def ti(var):\n",
    "    return var*3"
   ]
  },
  {
   "cell_type": "code",
   "execution_count": 24,
   "id": "152fc5ae",
   "metadata": {},
   "outputs": [
    {
     "name": "stdout",
     "output_type": "stream",
     "text": [
      "kanishkkanishkkanishk\n"
     ]
    }
   ],
   "source": [
    "print(ti('kanishk'))"
   ]
  },
  {
   "cell_type": "code",
   "execution_count": 25,
   "id": "c6da8fc3",
   "metadata": {},
   "outputs": [
    {
     "name": "stdout",
     "output_type": "stream",
     "text": [
      "12\n"
     ]
    }
   ],
   "source": [
    "print(ti(4))"
   ]
  },
  {
   "cell_type": "code",
   "execution_count": 26,
   "id": "965eb9af",
   "metadata": {},
   "outputs": [
    {
     "name": "stdout",
     "output_type": "stream",
     "text": [
      "222\n"
     ]
    }
   ],
   "source": [
    "\n",
    "print(ti('2'))"
   ]
  },
  {
   "cell_type": "code",
   "execution_count": 27,
   "id": "0d6d95ac",
   "metadata": {},
   "outputs": [
    {
     "data": {
      "text/plain": [
       "<function __main__.<lambda>(var)>"
      ]
     },
     "execution_count": 27,
     "metadata": {},
     "output_type": "execute_result"
    }
   ],
   "source": [
    "lambda var:var*2"
   ]
  },
  {
   "cell_type": "code",
   "execution_count": 32,
   "id": "87b3edb9",
   "metadata": {},
   "outputs": [],
   "source": [
    "st = \"ka nIS hk\""
   ]
  },
  {
   "cell_type": "code",
   "execution_count": 33,
   "id": "6a9447eb",
   "metadata": {},
   "outputs": [
    {
     "data": {
      "text/plain": [
       "'ka nis hk'"
      ]
     },
     "execution_count": 33,
     "metadata": {},
     "output_type": "execute_result"
    }
   ],
   "source": [
    "st.lower()"
   ]
  },
  {
   "cell_type": "code",
   "execution_count": 34,
   "id": "6192d6fa",
   "metadata": {},
   "outputs": [
    {
     "data": {
      "text/plain": [
       "'KA NIS HK'"
      ]
     },
     "execution_count": 34,
     "metadata": {},
     "output_type": "execute_result"
    }
   ],
   "source": [
    "st.upper()"
   ]
  },
  {
   "cell_type": "code",
   "execution_count": 38,
   "id": "dc95241b",
   "metadata": {},
   "outputs": [
    {
     "data": {
      "text/plain": [
       "['ka', 'nIS', 'hk']"
      ]
     },
     "execution_count": 38,
     "metadata": {},
     "output_type": "execute_result"
    }
   ],
   "source": [
    "st.split()"
   ]
  },
  {
   "cell_type": "code",
   "execution_count": 39,
   "id": "8c765281",
   "metadata": {},
   "outputs": [],
   "source": [
    "d={'k1':'v1','k2':'v2'}"
   ]
  },
  {
   "cell_type": "code",
   "execution_count": 40,
   "id": "6cc5e97a",
   "metadata": {},
   "outputs": [
    {
     "data": {
      "text/plain": [
       "dict_items([('k1', 'v1'), ('k2', 'v2')])"
      ]
     },
     "execution_count": 40,
     "metadata": {},
     "output_type": "execute_result"
    }
   ],
   "source": [
    "d.items()"
   ]
  },
  {
   "cell_type": "code",
   "execution_count": 41,
   "id": "34ec2edf",
   "metadata": {},
   "outputs": [
    {
     "data": {
      "text/plain": [
       "dict_keys(['k1', 'k2'])"
      ]
     },
     "execution_count": 41,
     "metadata": {},
     "output_type": "execute_result"
    }
   ],
   "source": [
    "d.keys()\n"
   ]
  },
  {
   "cell_type": "code",
   "execution_count": 42,
   "id": "d825e985",
   "metadata": {},
   "outputs": [],
   "source": [
    "mylist  = [2,3,4,5,6]"
   ]
  },
  {
   "cell_type": "code",
   "execution_count": 43,
   "id": "645c6297",
   "metadata": {},
   "outputs": [],
   "source": [
    "last = mylist.pop()"
   ]
  },
  {
   "cell_type": "code",
   "execution_count": 44,
   "id": "6b523350",
   "metadata": {},
   "outputs": [
    {
     "data": {
      "text/plain": [
       "6"
      ]
     },
     "execution_count": 44,
     "metadata": {},
     "output_type": "execute_result"
    }
   ],
   "source": [
    "last"
   ]
  },
  {
   "cell_type": "code",
   "execution_count": 45,
   "id": "28b870d6",
   "metadata": {},
   "outputs": [
    {
     "data": {
      "text/plain": [
       "[2, 3, 4, 5]"
      ]
     },
     "execution_count": 45,
     "metadata": {},
     "output_type": "execute_result"
    }
   ],
   "source": [
    "mylist"
   ]
  },
  {
   "cell_type": "code",
   "execution_count": 46,
   "id": "2d6c85c0",
   "metadata": {},
   "outputs": [],
   "source": [
    "last = mylist.pop(0)"
   ]
  },
  {
   "cell_type": "code",
   "execution_count": 47,
   "id": "1d2045d1",
   "metadata": {},
   "outputs": [
    {
     "data": {
      "text/plain": [
       "[3, 4, 5]"
      ]
     },
     "execution_count": 47,
     "metadata": {},
     "output_type": "execute_result"
    }
   ],
   "source": [
    "mylist\n"
   ]
  },
  {
   "cell_type": "code",
   "execution_count": 49,
   "id": "3b3ea258",
   "metadata": {},
   "outputs": [
    {
     "data": {
      "text/plain": [
       "False"
      ]
     },
     "execution_count": 49,
     "metadata": {},
     "output_type": "execute_result"
    }
   ],
   "source": [
    "'x' in mylist"
   ]
  },
  {
   "cell_type": "code",
   "execution_count": null,
   "id": "92a3b341",
   "metadata": {},
   "outputs": [],
   "source": []
  }
 ],
 "metadata": {
  "kernelspec": {
   "display_name": "Python 3 (ipykernel)",
   "language": "python",
   "name": "python3"
  },
  "language_info": {
   "codemirror_mode": {
    "name": "ipython",
    "version": 3
   },
   "file_extension": ".py",
   "mimetype": "text/x-python",
   "name": "python",
   "nbconvert_exporter": "python",
   "pygments_lexer": "ipython3",
   "version": "3.9.13"
  }
 },
 "nbformat": 4,
 "nbformat_minor": 5
}
